{
 "cells": [
  {
   "cell_type": "markdown",
   "metadata": {},
   "source": [
    "# Градиентный спуск"
   ]
  },
  {
   "cell_type": "markdown",
   "metadata": {},
   "source": [
    "Решить методом градиентного спуска уравнение $x^{2}+5x-4=0$."
   ]
  },
  {
   "cell_type": "markdown",
   "metadata": {},
   "source": [
    "**Вопросы**.\n",
    "1. Для чего используется градиентный спуск?  \n",
    "\n",
    "Ответ: Градиентный спуск используется для оптимизации функций, минимизации ошибок и нахождения минимума функций. Он ищет минимум функции, двигаясь в направлении наибольшего убывания градиента функции.\n",
    "\n",
    "2. Для какой функции L будем его применять в данной задаче?  \n",
    "\n",
    "Ответ: abs(x^2 + 5x - 4)\n",
    "\n",
    "3. Чему равна производная L по x?  \n",
    "\n",
    "Ответ: (2*x^3+15*x^2+17x-20)/(|x^2+5x-4|)\n",
    "\n",
    "4. Какие проблемы возникают при использовании градиентного спуска при решении этой задачи?  \n",
    "\n",
    "Ответ: Правильный подбор функции L(x), подбор правильных значений скорости градиентного спуска и максимального количества итераций."
   ]
  },
  {
   "cell_type": "code",
   "execution_count": 1,
   "metadata": {},
   "outputs": [
    {
     "name": "stdout",
     "output_type": "stream",
     "text": [
      "-5.733151097055307 0.20326601638993935\n"
     ]
    }
   ],
   "source": [
    "### НАЧАЛО КОДА ###\n",
    "x = -10\n",
    "L = x*x + 5*x - 4\n",
    "dL = 2*x + 5\n",
    "alpha = 0.01\n",
    "max_iter = 100000\n",
    "for _ in range(max_iter):\n",
    "    dL = ((2*x+5)*(x*x+5*x-4))/abs(x*x+5*x-4) #Производная этой функции\n",
    "    x -= alpha * dL\n",
    "print(x, x ** 2 + 5 * x - 4)    \n",
    "### КОНЕЦ КОДА ###"
   ]
  },
  {
   "cell_type": "markdown",
   "metadata": {},
   "source": [
    "# Логистическая регрессия\n",
    "\n",
    "Основной задачей будет обучение классификатор на базе логистической регрессии, чтобы отбирать изображения, на которых есть котики.\n",
    "\n",
    "**Инструкции:**\n",
    "- Не использовать циклы (for/while) в коде, кроме случаев, где напрямую это разрешается.\n",
    "\n",
    "**Вы узнаете как:**\n",
    "- Строить общую архитектуру алгоритма обучения, включая:\n",
    "    - Инициализацию параметров\n",
    "    - Вычисление функции стоимости и ее градиент\n",
    "    - Использование алгоритма оптимизации (градиентный спуск) \n",
    "- Собрать перечисленные выше функции в основную функцию модели в правильном порядке."
   ]
  },
  {
   "cell_type": "markdown",
   "metadata": {},
   "source": [
    "## 1 - Пакеты ##\n",
    "\n",
    "Для начала, запустим ячейку ниже, чтобы импортировать все пакеты, которые понадобятся вам по мере выполнения практики.\n",
    "- [h5py](http://www.h5py.org) библиотека для взаимодействия с датасетом в Н5-файле\n",
    "- [matplotlib](http://matplotlib.org) библиотека для построения графиков/визуализации.\n"
   ]
  },
  {
   "cell_type": "code",
   "execution_count": 2,
   "metadata": {},
   "outputs": [],
   "source": [
    "import numpy as np\n",
    "import matplotlib.pyplot as plt\n",
    "import h5py\n",
    "import scipy\n",
    "from PIL import Image\n",
    "\n",
    "%matplotlib inline"
   ]
  },
  {
   "cell_type": "markdown",
   "metadata": {
    "collapsed": true
   },
   "source": [
    "## 2 - Исследование проблемы ##\n",
    "\n",
    "**Проблема**: Вам дается датасет (\"data.h5\") содержащий:  \n",
    "- тренировочную выборку m_train изображений, с маркировками \"котик\" (y=1) или \"не котик\" (y=0)  \n",
    "- тестовую выборку m_test изображений с маркировками котик/не котик  \n",
    "- все изображения размерностью (num_px, num_px, 3), где 3 соответствует трехканальной передаче цвета (RGB). Т.е. каждое изображение - квадрат (height = num_px) и (width = num_px).  \n",
    "\n",
    "Необходимо написать простой алгоритм распознавания изображения, который сможет корректно классифицировать, есть ли на изображении кошка.\n",
    "\n",
    "Давайте познакомимся с датасетом. Загрузите данные, запустив ячейку ниже."
   ]
  },
  {
   "cell_type": "code",
   "execution_count": 3,
   "metadata": {},
   "outputs": [],
   "source": [
    "# Загружаем данные\n",
    "def load_dataset():\n",
    "    train_dataset = h5py.File('train_catvnoncat.h5', \"r\")\n",
    "    train_set_x_orig = np.array(train_dataset[\"train_set_x\"][:]) # your train set features\n",
    "    train_set_y_orig = np.array(train_dataset[\"train_set_y\"][:]) # your train set labels\n",
    "\n",
    "    test_dataset = h5py.File('test_catvnoncat.h5', \"r\")\n",
    "    test_set_x_orig = np.array(test_dataset[\"test_set_x\"][:]) # your test set features\n",
    "    test_set_y_orig = np.array(test_dataset[\"test_set_y\"][:]) # your test set labels\n",
    "\n",
    "    classes = np.array(test_dataset[\"list_classes\"][:]) # the list of classes\n",
    "    \n",
    "    train_set_y_orig = train_set_y_orig.reshape((1, train_set_y_orig.shape[0]))\n",
    "    test_set_y_orig = test_set_y_orig.reshape((1, test_set_y_orig.shape[0]))\n",
    "    \n",
    "    return train_set_x_orig, train_set_y_orig, test_set_x_orig, test_set_y_orig, classes\n",
    "\n",
    "train_set_x_orig, train_set_y, test_set_x_orig, test_set_y, classes = load_dataset()"
   ]
  },
  {
   "cell_type": "markdown",
   "metadata": {},
   "source": [
    "Добавили \"_orig\" в конце датасетов, потому что будем их в дальнейшем обрабатывать. После обработки у нас будут train_set_x и test_set_x (названия train_set_y и test_set_y не нуждаются в предварительной обработке).\n",
    "\n",
    "Каждая строка train_set_x_orig и test_set_x_orig является массивой, описывающим изображение. Можете вывести его и посмотрев, выполнив код ниже. Можно менять значение `index` и перезапустить ячейку, чтобы посмотреть другие картинки. "
   ]
  },
  {
   "cell_type": "code",
   "execution_count": 4,
   "metadata": {},
   "outputs": [
    {
     "name": "stdout",
     "output_type": "stream",
     "text": [
      "y = [1], it's a 'cat' picture.\n"
     ]
    },
    {
     "data": {
      "image/png": "[encoded data removed]",
      "text/plain": [
       "<Figure size 640x480 with 1 Axes>"
      ]
     },
     "metadata": {},
     "output_type": "display_data"
    }
   ],
   "source": [
    "# Пример картинки\n",
    "index = 25\n",
    "plt.imshow(train_set_x_orig[index])\n",
    "print (\"y = \" + str(train_set_y[:, index]) + \", it's a '\" + classes[np.squeeze(train_set_y[:, index])].decode(\"utf-8\") +  \"' picture.\")"
   ]
  },
  {
   "cell_type": "markdown",
   "metadata": {},
   "source": [
    "Многие ошибки в машинном обучении возникают из-за несоответствия размерности матрицы/вектора. Если следить за этим, получится избежать большого количества проблем.\n",
    "\n",
    "**Упражнения:** Найдите значения:\n",
    "- m_train (величина тренировочной выборки)\n",
    "- m_test (величина тестовой выборки)\n",
    "- num_px (= height = width тренировочной картинки)\n",
    "\n",
    "Помните, что `train_set_x_orig` это numpy-array размерностью (m_train, num_px, num_px, 3). Так например, можно получить `m_train` запросив `train_set_x_orig.shape[0]`."
   ]
  },
  {
   "cell_type": "code",
   "execution_count": 5,
   "metadata": {
    "scrolled": true
   },
   "outputs": [
    {
     "name": "stdout",
     "output_type": "stream",
     "text": [
      "Количество примеров в обучающей выборке: m_train = 209\n",
      "Количество примеров в тестовой выборке: m_test = 50\n",
      "Высота/ширина каждого изображения: num_px = 64\n",
      "Размер каждого изображения: (64, 64, 3)\n",
      "train_set_x shape: (209, 64, 64, 3)\n",
      "train_set_y shape: (1, 209)\n",
      "test_set_x shape: (50, 64, 64, 3)\n",
      "test_set_y shape: (1, 50)\n"
     ]
    }
   ],
   "source": [
    "### НАЧАЛО КОДА ### (≈ 3 строчки)\n",
    "m_train = train_set_x_orig.shape[0]\n",
    "m_test = test_set_x_orig.shape[0]\n",
    "num_px = train_set_x_orig.shape[1]\n",
    "### КОНЕЦ КОДА ###\n",
    "\n",
    "print(\"Количество примеров в обучающей выборке: m_train = \" + str(m_train))\n",
    "print(\"Количество примеров в тестовой выборке: m_test = \" + str(m_test))\n",
    "print(\"Высота/ширина каждого изображения: num_px = \" + str(num_px))\n",
    "print(\"Размер каждого изображения: (\" + str(num_px) + \", \" + str(num_px) + \", 3)\")\n",
    "print(\"train_set_x shape: \" + str(train_set_x_orig.shape))\n",
    "print(\"train_set_y shape: \" + str(train_set_y.shape))\n",
    "print(\"test_set_x shape: \" + str(test_set_x_orig.shape))\n",
    "print(\"test_set_y shape: \" + str(test_set_y.shape))"
   ]
  },
  {
   "cell_type": "markdown",
   "metadata": {},
   "source": [
    "**Ожидаемый результат для m_train, m_test и num_px:**\n",
    "\n",
    "|  |  |\n",
    "|---|---|\n",
    "| **m_train** | 209|\n",
    "| **m_test** | 50|\n",
    "| **num_px** |  64|"
   ]
  },
  {
   "cell_type": "markdown",
   "metadata": {},
   "source": [
    "Для удобства, конвертируем изображения размерностью (num_px, num_px, 3) в numpy-array  размерностью (num_px $*$ num_px $*$ 3, 1). После этого, обучающая (и тестовая) выборка станут numpy array, где каждый столбец представляет собой изображение. Теперь должно быть m_train (и соответственно m_test) столбцов.\n",
    "\n",
    "**Упражнение:** Измените размерность тренировочного и тестового датасета так, что изображения размерностью (num_px, num_px, 3) станут вектором размерностью (num\\_px $*$ num\\_px $*$ 3, 1).\n",
    "\n",
    "Когда вы хотите перевести матрицу X размерностью (a,b,c,d) в матрицу X_flatten размером (b$*$c$*$d, a) можно использовать: \n",
    "```python\n",
    "X_flatten = X.reshape(X.shape[0], -1).T      # X.T - транспонированная X\n",
    "```"
   ]
  },
  {
   "cell_type": "code",
   "execution_count": 6,
   "metadata": {},
   "outputs": [
    {
     "name": "stdout",
     "output_type": "stream",
     "text": [
      "train_set_x_flatten shape: (12288, 209)\n",
      "train_set_y shape: (1, 209)\n",
      "test_set_x_flatten shape: (12288, 50)\n",
      "test_set_y shape: (1, 50)\n",
      "Проверка адекватности результата: [17 31 56 22 33]\n"
     ]
    }
   ],
   "source": [
    "# Изменение размерности\n",
    "\n",
    "### НАЧАЛО КОДА ### (≈ 2 строчки)\n",
    "train_set_x_flatten = train_set_x_orig.reshape(train_set_x_orig.shape[0], -1).T\n",
    "test_set_x_flatten = test_set_x_orig.reshape(test_set_x_orig.shape[0], -1).T\n",
    "### КОНЕЦ КОДА ###\n",
    "\n",
    "print (\"train_set_x_flatten shape: \" + str(train_set_x_flatten.shape))\n",
    "print (\"train_set_y shape: \" + str(train_set_y.shape))\n",
    "print (\"test_set_x_flatten shape: \" + str(test_set_x_flatten.shape))\n",
    "print (\"test_set_y shape: \" + str(test_set_y.shape))\n",
    "print (\"Проверка адекватности результата: \" + str(train_set_x_flatten[0:5,0]))"
   ]
  },
  {
   "cell_type": "markdown",
   "metadata": {},
   "source": [
    "**Ожидаемый результат:**\n",
    "\n",
    "|  |  |\n",
    "|---|---|\n",
    "| **train_set_x_flatten shape** | (12288, 209)|\n",
    "| **train_set_y shape** | (1, 209)|\n",
    "| **test_set_x_flatten shape** |  (12288, 50)|\n",
    "| **test_set_y shape** | (1, 50)|\n",
    "| **sanity check after reshaping** | [17 31 56 22 33]|"
   ]
  },
  {
   "cell_type": "markdown",
   "metadata": {},
   "source": [
    "При представлении цветных изображений для каждого пикселя необходимо указать красный, зеленый и синий каналы (RGB), поэтому значение пикселя фактически представляет собой вектор из трех чисел в диапазоне от 0 до 255.\n",
    "\n",
    "Одним из распространенных шагов предварительной обработки в машинном обучении является центрирование и стандартизация набора данных. Для этого надо вычесть среднее значение всего массива из каждого элемента, а затем разделить каждый элемент на стандартное отклонение массива. \n",
    "\n",
    "Но для изображений проще, удобнее и почти так же хорошо работает, если разделить каждую строку набора данных на 255 (максимальное значение пиксельного канала).\n",
    "\n",
    "Подробнее почитать можно здесь: https://stats.stackexchange.com/questions/211436/why-normalize-images-by-subtracting-datasets-image-mean-instead-of-the-current\n",
    "\n",
    "Давайте стандартизуем наш набор данных."
   ]
  },
  {
   "cell_type": "code",
   "execution_count": 7,
   "metadata": {},
   "outputs": [],
   "source": [
    "train_set_x = train_set_x_flatten/255.\n",
    "test_set_x = test_set_x_flatten/255."
   ]
  },
  {
   "cell_type": "code",
   "execution_count": 8,
   "metadata": {},
   "outputs": [
    {
     "data": {
      "text/plain": [
       "(12288, 209)"
      ]
     },
     "execution_count": 8,
     "metadata": {},
     "output_type": "execute_result"
    }
   ],
   "source": [
    "train_set_x.shape"
   ]
  },
  {
   "cell_type": "markdown",
   "metadata": {},
   "source": [
    "<font color='blue'>\n",
    "\n",
    "Общепринятые шаги на этапе предобработки:\n",
    "- Проверить/выяснить размерность всех элементов (m_train, m_test, num_px, ...)\n",
    "- Изменить форму датасетов требуемым образом.\n",
    "- Провести стандартизацию данных"
   ]
  },
  {
   "cell_type": "markdown",
   "metadata": {},
   "source": [
    "## 3 - Общая архитектура алгоритма обучения ##\n",
    "\n",
    "Разработаем простой алгоритм, позволяющий отличать изображения кошек от изображений, не относящихся к кошкам.\n",
    "\n",
    "Строить будем логистическую регрессию, описывая ее как нейрон в нейронной сети.\n",
    "\n",
    "**Математическое описание алгоритма**:\n",
    "\n",
    "Для одного элемента $x^{(i)}$:\n",
    "$$z^{(i)} = w^T x^{(i)} + b \\tag{1}$$\n",
    "$$\\hat{y}^{(i)} = a^{(i)} = sigmoid(z^{(i)})\\tag{2}$$ \n",
    "$$ \\mathcal{L}(a^{(i)}, y^{(i)}) =  - y^{(i)}  \\log(a^{(i)}) - (1-y^{(i)} )  \\log(1-a^{(i)})\\tag{3}$$\n",
    "\n",
    "Затем стоимость рассчитывается путем суммирования всех обучающих примеров.:\n",
    "$$ J = \\frac{1}{m} \\sum_{i=1}^m \\mathcal{L}(a^{(i)}, y^{(i)})\\tag{6}$$\n",
    "\n",
    "**Основные шаги**:\n",
    "\n",
    "В этом упражнении нужно выполнить следующие шаги:\n",
    "\n",
    "- Инициализировать параметры модели\n",
    "- Подобрать параметры модели, минимизировав функцию стоимости\n",
    "- Использовать эти параметры для прогнозирования (на тестовом наборе)\n",
    "- Проанализировать результаты и сделать выводы."
   ]
  },
  {
   "cell_type": "markdown",
   "metadata": {},
   "source": [
    "## 4 - Построение частей алгоритма ## \n",
    "\n",
    "Основные этапы построения нейронной сети:\n",
    "\n",
    "1. Определите структуру модели (например, количество входных объектов).\n",
    "2. Инициализируйте параметры модели.\n",
    "3. Цикл:\n",
    "     - Рассчитать текущие потери (прямое распространение)\n",
    "     - Рассчитать градиент тока (обратное распространение)\n",
    "     - Обновление параметров (градиентный спуск)\n",
    "\n",
    "Реализуем пункты 1-3 отдельно и интегрируем их в одну функцию, которую мы назовем model().\n",
    "\n",
    "### 4.1 - Вспомогательные функции\n",
    "\n",
    "**Задача**: Реализуйте функцию `sigmoid()`. Нужно вычислить $sigmoid( w^T x + b) = \\frac{1}{1 + e^{-(w^T x + b)}}$ чтобы сделать предсказания. Используйте np.exp()."
   ]
  },
  {
   "cell_type": "code",
   "execution_count": 9,
   "metadata": {},
   "outputs": [],
   "source": [
    "def sigmoid(z):\n",
    "    \"\"\"\n",
    "    Вычислите сигмоиду от z\n",
    "\n",
    "    Аргументы:\n",
    "    z -- Скаляр или numpy array любого размера.\n",
    "\n",
    "    Ответ:\n",
    "    s -- sigmoid(z)\n",
    "    \"\"\"\n",
    "\n",
    "    ### НАЧАЛО КОДА ### (≈ 1 строчка)\n",
    "    s = 1/(1+ np.exp(-z))\n",
    "    ### КОНЕЦ КОДА ###\n",
    "    \n",
    "    return s"
   ]
  },
  {
   "cell_type": "code",
   "execution_count": 10,
   "metadata": {
    "scrolled": true
   },
   "outputs": [
    {
     "name": "stdout",
     "output_type": "stream",
     "text": [
      "sigmoid([0, 2]) = [0.5        0.88079708]\n"
     ]
    }
   ],
   "source": [
    "print (\"sigmoid([0, 2]) = \" + str(sigmoid(np.array([0,2]))))"
   ]
  },
  {
   "cell_type": "markdown",
   "metadata": {},
   "source": [
    "**Ожидаемый результат:**\n",
    "\n",
    "|  |  |\n",
    "|---|---|\n",
    "| **sigmoid([0, 2])** |  [ 0.5 0.88079708]  |"
   ]
  },
  {
   "cell_type": "markdown",
   "metadata": {},
   "source": [
    "### 4.2 - Инициализация параметров\n",
    "\n",
    "**Задание:** Реализовать инициализацию параметров в ячейке ниже. \n",
    "\n",
    "Необходимо инициализировать w как вектор нулей. Если вы не знаете, какую функцию numpy использовать, найдите np.zeros() в документации библиотеки Numpy."
   ]
  },
  {
   "cell_type": "code",
   "execution_count": 11,
   "metadata": {},
   "outputs": [],
   "source": [
    "def initialize_with_zeros(dim):\n",
    "    \"\"\"\n",
    "    Эта функция создает вектор нулей размерностью (dim, 1) для w и инициализирует b значением 0.\n",
    "    \n",
    "     Аргумент:\n",
    "     dim — размер желаемого вектора w (или количество параметров в данном случае)\n",
    "    \n",
    "     Результат:\n",
    "     w — инициализированный вектор размера (dim, 1)\n",
    "     b -- инициализированный скаляр (соответствует смещению)\n",
    "    \"\"\"\n",
    "    \n",
    "    ### НАЧАЛО КОДА ### (≈ 1 строчка)\n",
    "    w = np.zeros((dim, 1))\n",
    "    b = 0\n",
    "    ### КОНЕЦ КОДА ###\n",
    "\n",
    "    assert(w.shape == (dim, 1))\n",
    "    assert(isinstance(b, float) or isinstance(b, int))\n",
    "    \n",
    "    return w, b"
   ]
  },
  {
   "cell_type": "code",
   "execution_count": 12,
   "metadata": {},
   "outputs": [
    {
     "name": "stdout",
     "output_type": "stream",
     "text": [
      "w = [[0.]\n",
      " [0.]]\n",
      "b = 0\n"
     ]
    }
   ],
   "source": [
    "dim = 2\n",
    "w, b = initialize_with_zeros(dim)\n",
    "print (\"w = \" + str(w))\n",
    "print (\"b = \" + str(b))"
   ]
  },
  {
   "cell_type": "markdown",
   "metadata": {},
   "source": [
    "**Ожидаемый результат:**\n",
    "\n",
    "|  |  |\n",
    "|---|---|\n",
    "| **w** |  [[ 0.] [ 0.]]  |\n",
    "| **b** |  0  |\n",
    "\n",
    "Для входных изображений w будет иметь размерность (num_px ×× num_px ×× 3, 1)."
   ]
  },
  {
   "cell_type": "markdown",
   "metadata": {},
   "source": [
    "### 4.3 - Прямое и обратное распространение\n",
    "\n",
    "Теперь, когда ваши параметры инициализированы, вы можете выполнить шаги «прямого» и «обратного» распространения для изучения параметров.\n",
    "\n",
    "**Задание:** Реализуйте функцию `propagate()`, которая вычисляет функцию стоимости и ее градиент.\n",
    "\n",
    "**Подсказки**:\n",
    "\n",
    "Прямое распространение:\n",
    "- У вас есть X\n",
    "- Вы вычисляете $A = \\sigma(w^T X + b) = (a^{(0)}, a^{(1)}, ..., a^{(m-1)}, a^{(m)})$\n",
    "- И вычисляете функцию стоимости: $J = -\\frac{1}{m}\\sum_{i=1}^{m}y^{(i)}\\log(a^{(i)})+(1-y^{(i)})\\log(1-a^{(i)})$\n",
    "\n",
    "Две формулы, которые вам понадобятся: \n",
    "\n",
    "$$ \\frac{\\partial J}{\\partial w} = \\frac{1}{m}X(A-Y)^T\\tag{7}$$\n",
    "$$ \\frac{\\partial J}{\\partial b} = \\frac{1}{m} \\sum_{i=1}^m (a^{(i)}-y^{(i)})\\tag{8}$$"
   ]
  },
  {
   "cell_type": "markdown",
   "metadata": {},
   "source": [
    "\n",
    "**Формула расчета матрицы (7), (8) простой процесс вывода**\n",
    "\n",
    "**Для удобства объяснения давайте сначала обсудим пример**. \n",
    "\n",
    "Из приведенного на лекции рисунка и цепного правила в исчислении мы можем рассчитать:\n",
    "\n",
    "$$ \\frac{\\partial L}{\\partial w} =  \\frac{\\partial L}{\\partial a} \\frac{\\partial a}{\\partial z} \\frac{\\partial z}{\\partial w}$$\n",
    "$$ \\frac{\\partial L}{\\partial b} =  \\frac{\\partial L}{\\partial a} \\frac{\\partial a}{\\partial z} \\frac{\\partial z}{\\partial b}$$\n",
    "\n",
    "- 1.Известно $L(a,y)=-[ylog(a)+(1-y)log(1-a)]$, откуда $$\\frac{\\partial L}{\\partial a} = - \\frac{y}{a}+\\frac{1-y}{1-a} = \\frac{a-y}{a(1-a)} \\tag{9}$$\n",
    "\n",
    "- 2.Кроме того $a = \\frac{1}{1+e^{-z}}$，тогда получаем $$\\frac{\\partial a}{\\partial z} = a(1-a) \\tag{10}$$\n",
    "\n",
    "- 3.К тому же $z = w_1x_1+w_2x_2+b$, поэтому $$\\frac{\\partial z}{\\partial w}=[x_1, x_2] \\tag{11}$$\n",
    "\n",
    "Таким же образом существуют $\\frac{\\partial z}{\\partial b} = 1 \\tag{12}$\n",
    "\n",
    "С помощью уравнений (9)~(12) мы можем получить это для одного элемента\n",
    "$$\\begin{align} \\frac{\\partial L}{\\partial w} =\\frac{\\partial L}{\\partial a} \\frac{\\partial a}{\\partial z} \\frac{\\partial z}{\\partial w}  &= \\frac{a-y}{a(1-a)} a(1-a)x \\\\ &= (a-y)x \\end{align}$$\n",
    "<br>\n",
    "$$\\begin{align} \\frac{\\partial L}{\\partial b} =\\frac{\\partial L}{\\partial a} \\frac{\\partial a}{\\partial z} \\frac{\\partial z}{\\partial b}  &= \\frac{a-y}{a(1-a)} a(1-a) \\\\ &= (a-y)\\end{align}$$\n",
    "\n",
    "Для всех элементов формулы (7) и (8) выше имеют следующий вид:"
   ]
  },
  {
   "cell_type": "code",
   "execution_count": 13,
   "metadata": {},
   "outputs": [],
   "source": [
    "def propagate(w, b, X, Y):\n",
    "    \"\"\"\n",
    "     Реализуйте функцию стоимости и ее градиент для распространения, описанного выше.\n",
    "\n",
    "     Args:\n",
    "     w -- веса, массив размером (num_px * num_px * 3, 1)\n",
    "     b -- смещение, скаляр\n",
    "     X -- данные размера (num_px * num_px * 3, количество примеров)\n",
    "     Y -- вектор правильных \"меток\" (содержащий 0, если не кошка, 1, если кошка) размера (1, количество примеров)\n",
    "\n",
    "     Result:\n",
    "     cost: значение функции стоимости для логистической регрессии.\n",
    "     grads: словарь вида {\"dw\": dw, \"db\": db}, где dw - градиент потерь относительно w, то есть той же размерности, \n",
    "     что и w, а db - градиент потерь относительно b, то есть той же размерности, что и b\n",
    "    \"\"\"\n",
    "    \n",
    "    m = X.shape[1]\n",
    "    \n",
    "    # Прямое распространение (от X к COST)\n",
    "    ### НАЧАЛО КОДА ### (≈ 2 строчки)\n",
    "    A = sigmoid(np.dot(w.T, X) + b)                                # вычисляем активацию\n",
    "    cost = -1/m * np.sum(Y* np.log(A) + (1 - Y) * np.log(1 - A))   # вычисляем стоимость\n",
    "    ### КОНЕЦ КОДА ###\n",
    "    \n",
    "    # Обратное распространение (для поиска градиента)\n",
    "    ### НАЧАЛО КОДА ### (≈ 2 строчки)\n",
    "    dw = 1/m * np.dot(X,(A - Y).T)\n",
    "    db = 1/m * np.sum(A - Y)\n",
    "    ### КОНЕЦ КОДА ###\n",
    "\n",
    "    assert(dw.shape == w.shape)\n",
    "    assert(db.dtype == float)\n",
    "    cost = np.squeeze(cost)\n",
    "    assert(cost.shape == ())\n",
    "    \n",
    "    grads = {\"dw\": dw,\n",
    "             \"db\": db}\n",
    "    \n",
    "    return grads, cost"
   ]
  },
  {
   "cell_type": "code",
   "execution_count": 14,
   "metadata": {},
   "outputs": [
    {
     "name": "stdout",
     "output_type": "stream",
     "text": [
      "dw = [[0.99993216]\n",
      " [1.99980262]]\n",
      "db = 0.49993523062470574\n",
      "cost = 6.000064773192205\n"
     ]
    }
   ],
   "source": [
    "w, b, X, Y = np.array([[1],[2]]), 2, np.array([[1,2],[3,4]]), np.array([[1,0]])\n",
    "grads, cost = propagate(w, b, X, Y)\n",
    "print (\"dw = \" + str(grads[\"dw\"]))\n",
    "print (\"db = \" + str(grads[\"db\"]))\n",
    "print (\"cost = \" + str(cost))"
   ]
  },
  {
   "cell_type": "markdown",
   "metadata": {},
   "source": [
    "**Ожидаемый результат:**\n",
    "\n",
    "|  |  |\n",
    "|---|---|\n",
    "| **dw** | [[ 0.99993216] [ 1.99980262]]  |\n",
    "| **db** |  0.499935230625  |\n",
    "| **cost** |  6.000064773192205  |"
   ]
  },
  {
   "cell_type": "markdown",
   "metadata": {},
   "source": [
    "### d) Оптимизация\n",
    "- Параметры инициализированы.\n",
    "- Функцию стоимости и ее градиент можем рассчитать.\n",
    "- Теперь обновим параметры, используя градиентный спуск.\n",
    "\n",
    "**Задание:** Напишите функцию оптимизации. Задача узнать $w$ и $b$ путем минимизации функции стоимости $J$. Параметр $\\theta$ обновляем следующим образом: $ \\theta = \\theta - \\alpha \\text{ } d\\theta$, где  $\\alpha$ - скорость обучения."
   ]
  },
  {
   "cell_type": "code",
   "execution_count": 15,
   "metadata": {},
   "outputs": [],
   "source": [
    "def optimize(w, b, X, Y, num_iterations, learning_rate, print_cost = False):\n",
    "    \"\"\"\n",
    "     Эта функция оптимизирует w и b, запуская алгоритм градиентного спуска.\n",
    "    \n",
    "     Аргументы:\n",
    "     w -- веса, массив размером (num_px * num_px * 3, 1)\n",
    "     b -- смещение, скаляр\n",
    "     X -- данные размером (num_px * num_px * 3, количество примеров)\n",
    "     Y -- вектор правильных «меток» (содержащий 0, если не кошка, 1, если кошка) размером (1, количество примеров)\n",
    "     num_iterations -- количество итераций цикла оптимизации\n",
    "     Learning_rate -- скорость обучения правила обновления градиентного спуска.\n",
    "     print_cost -- True, чтобы печатать потери каждые 100 итераций.\n",
    "    \n",
    "     Результат:\n",
    "     params -- словарь, содержащий веса w и смещение b\n",
    "     grads -- словарь, содержащий градиенты весов и смещения относительно функции стоимости.\n",
    "     costs — список всех стоимостей, вычисленных во время оптимизации, он будет использоваться для построения кривой обучения.\n",
    "    \n",
    "     Советы:\n",
    "     По сути, вам нужно записать два шага и выполнить их:\n",
    "         1) Рассчитайте стоимость и градиент для текущих параметров. Используйте функцию propagate().\n",
    "         2) Обновите параметры, используя правило градиентного спуска для w и b.\n",
    "    \"\"\"\n",
    "    \n",
    "    costs = []\n",
    "    \n",
    "    for i in range(num_iterations):\n",
    "        \n",
    "        \n",
    "        # Вычисление функции стоимости и градиента (≈ 1-4 строчки)\n",
    "        ### НАЧАЛО КОДА ### \n",
    "        grads, cost = propagate(w, b, X, Y)\n",
    "        ### КОНЕЦ КОДА ###\n",
    "        \n",
    "        # Получить производные от градиентов\n",
    "        dw = grads[\"dw\"]\n",
    "        db = grads[\"db\"]\n",
    "        \n",
    "        # Правило обновления (≈ 2 строчки)\n",
    "        ### НАЧАЛО КОДА ###\n",
    "        w = w - learning_rate*dw\n",
    "        b = b - learning_rate*db\n",
    "        ### КОНЕЦ КОДА ###\n",
    "        \n",
    "        # записываем стоимость\n",
    "        if i % 100 == 0:\n",
    "            costs.append(cost)\n",
    "        \n",
    "        # Выводим стоимость каждые 100 элементов тренировочной выборки\n",
    "        if print_cost and (i +1)% 100 == 0:\n",
    "            print (\"Cost after iteration %i: %f\" %(i+1, cost))\n",
    "    \n",
    "    params = {\"w\": w,\n",
    "              \"b\": b}\n",
    "    \n",
    "    grads = {\"dw\": dw,\n",
    "             \"db\": db}\n",
    "    \n",
    "    return params, grads, costs"
   ]
  },
  {
   "cell_type": "code",
   "execution_count": 16,
   "metadata": {},
   "outputs": [
    {
     "name": "stdout",
     "output_type": "stream",
     "text": [
      "w = [[0.1124579 ]\n",
      " [0.23106775]]\n",
      "b = 1.5593049248448891\n",
      "dw = [[0.90158428]\n",
      " [1.76250842]]\n",
      "db = 0.4304620716786828\n"
     ]
    }
   ],
   "source": [
    "params, grads, costs = optimize(w, b, X, Y, num_iterations= 100, learning_rate = 0.009, print_cost = False)\n",
    "\n",
    "print (\"w = \" + str(params[\"w\"]))\n",
    "print (\"b = \" + str(params[\"b\"]))\n",
    "print (\"dw = \" + str(grads[\"dw\"]))\n",
    "print (\"db = \" + str(grads[\"db\"]))"
   ]
  },
  {
   "cell_type": "markdown",
   "metadata": {},
   "source": [
    "**Ожидаемый результат:**\n",
    "\n",
    "|  |  |\n",
    "|---|---|\n",
    "| **w** | [[ 0.1124579 ] [ 0.23106775]]  |\n",
    "| **b** | 1.55930492484  |\n",
    "| **dw** | [[ 0.90158428] [ 1.76250842]]  |\n",
    "| **db** |  0.430462071679  |"
   ]
  },
  {
   "cell_type": "markdown",
   "metadata": {},
   "source": [
    "**Задание:** Предыдущая функция выводит изученные значения w и b. Мы можем использовать w и b, чтобы предсказать результаты для датасета X. Реализуйте функцию `predict()`. \n",
    "\n",
    "Два шага для вычисления предсказаний:\n",
    "\n",
    "1. Считаем $\\hat{Y} = A = \\sigma(w^T X + b)$\n",
    "\n",
    "2. Преобразовывем a в 0 (если активация <= 0.5) или 1 (если активация > 0.5), сохраняем предказания в вектор `Y_prediction`. Если хотите, В данном примере можно использовать `if`/`else` и цикл `for` (хотя есть и другие способы получения этого вектора). "
   ]
  },
  {
   "cell_type": "code",
   "execution_count": 19,
   "metadata": {},
   "outputs": [],
   "source": [
    "def predict(w, b, X):\n",
    "    '''\n",
    "     Предскажите, равно ли значение 0 или 1, используя изученные параметры логистической регрессии (w, b)\n",
    "    \n",
    "     Аргументы:\n",
    "     w -- веса, массив размером (num_px * num_px * 3, 1)\n",
    "     b -- смещение, скаляр\n",
    "     X -- данные размера (num_px * num_px * 3, количество примеров)\n",
    "    \n",
    "     Результат:\n",
    "     Y_prediction -- массив чисел (вектор), содержащий все прогнозы (0/1) для примеров в X.\n",
    "    '''\n",
    "    \n",
    "    m = X.shape[1]\n",
    "    Y_prediction = np.zeros((1,m))\n",
    "    w = w.reshape(X.shape[0], 1)\n",
    "    \n",
    "    # Вычислите вектор \"A\", предсказывающий вероятность присутствия котика на изображении\n",
    "    ### НАЧАЛО КОДА ### (≈ 1 строчка)\n",
    "    A = sigmoid(np.dot(w.T, X) + b)\n",
    "    ### КОНЕЦ КОДА ###\n",
    "    \n",
    "    for i in range(A.shape[1]):\n",
    "        \n",
    "        # Преобразуем вероятности A[0,i] в предсказания p[0,i]\n",
    "        ### НАЧАЛО КОДА ### (≈ 4 строчки)\n",
    "        Y_prediction[0][i] = 1 if A[0][i]>0.5 else 0\n",
    "        \n",
    "        ### КОНЕЦ КОДА ###\n",
    "    \n",
    "    assert(Y_prediction.shape == (1, m))\n",
    "    \n",
    "    return Y_prediction"
   ]
  },
  {
   "cell_type": "code",
   "execution_count": 20,
   "metadata": {},
   "outputs": [
    {
     "name": "stdout",
     "output_type": "stream",
     "text": [
      "predictions = [[1. 1.]]\n"
     ]
    }
   ],
   "source": [
    "print (\"predictions = \" + str(predict(w, b, X)))"
   ]
  },
  {
   "cell_type": "markdown",
   "metadata": {},
   "source": [
    "**Ожидаемый результат:**\n",
    "\n",
    "|  |  |\n",
    "|---|---|\n",
    "| **предсказания** |[[ 1. 1.]] |"
   ]
  },
  {
   "cell_type": "markdown",
   "metadata": {
    "collapsed": true
   },
   "source": [
    "<font color='blue'>\n",
    "    \n",
    "Реализовали несколько функций, которые позволяют:\n",
    "- Инициализировать (w,b)\n",
    "- Итеративно оптимизировать потери, чтобы подобрать параметры (w,b):\n",
    "     - расчитали функцию стоимости и ее градиент\n",
    "     - обновили параметры с помощью градиентного спуска\n",
    "- Использовать полученные значения (w,b), чтобы предсказать значения для заданного набора примеров."
   ]
  },
  {
   "cell_type": "markdown",
   "metadata": {},
   "source": [
    "## 5 - Соединяем все фунции в модель ##\n",
    "\n",
    "Теперь вы увидите, как структурирована общая модель, соединив вместе все предварительные блоки (функции, реализованные в предыдущих частях) в правильном порядке.\n",
    "\n",
    "**Задание:** Реализуйте функцию модели. Используйте следующие обозначения:\n",
    "\n",
    "     - Y_prediction для прогнозов на тестовом датасете\n",
    "     - Y_prediction_train для прогнозов на тренировочном датасете\n",
    "     - w, costs, grads для результатов optimize()"
   ]
  },
  {
   "cell_type": "code",
   "execution_count": 33,
   "metadata": {},
   "outputs": [],
   "source": [
    "def model(X_train, Y_train, X_test, Y_test, num_iterations = 2000, learning_rate = 0.5, print_cost = False):\n",
    "    \"\"\"\n",
    "    Строим модель логистической регрессии, вызывая реализованную ранее функцию.\n",
    "    \n",
    "     Аргументы:\n",
    "     X_train -- обучающий набор, представленный массивом размером (num_px * num_px * 3, m_train)\n",
    "     Y_train -- обучающие значения, представленные массивом (вектором) размером (1, m_train)\n",
    "     X_test -- набор тестов, представленный массивом размером (num_px * num_px * 3, m_test)\n",
    "     Y_test -- тестовые значения, представленные массивом (вектором) размера (1, m_test)\n",
    "     num_iterations -- гиперпараметр, представляющий количество итераций для оптимизации параметров.\n",
    "     Learning_rate -- гиперпараметр, представляющий скорость обучения, используемую при обновлении optimize().\n",
    "     print_cost -- установите значение true, чтобы печатать cost каждые 100 итераций.\n",
    "    \n",
    "     Результат:\n",
    "     d -- словарь, содержащий информацию о модели.\n",
    "    \"\"\"\n",
    "    \n",
    "    ### НАЧАЛО КОДА ###\n",
    "    \n",
    "    # инициализируем параметры нулями (≈ 1 строчка)\n",
    "    w, b = initialize_with_zeros(X_train.shape[0])\n",
    "\n",
    "    # градиентный спуск (≈ 1 строчка)\n",
    "    params, grads, costs = optimize(w, b, X_train, Y_train, num_iterations, learning_rate, print_cost = False)\n",
    "    \n",
    "    # получаем фараметры w и b из словаря \"параметров\"\n",
    "    w = params[\"w\"]\n",
    "    b = params[\"b\"]\n",
    "    \n",
    "    # предсказываем test/train (≈ 2 строчки)\n",
    "    Y_prediction_test = predict(w, b, X_test)\n",
    "    Y_prediction_train = predict(w, b, X_train)\n",
    "    \n",
    "    ### КОНЕЦ КОДА ###\n",
    "\n",
    "    # выводим train/test ошибки\n",
    "    print(\"train accuracy: {} %\".format(100 - np.mean(np.abs(Y_prediction_train - Y_train)) * 100))\n",
    "    print(\"test accuracy: {} %\".format(100 - np.mean(np.abs(Y_prediction_test - Y_test)) * 100))\n",
    "\n",
    "    \n",
    "    d = {\"costs\": costs,\n",
    "         \"Y_prediction_test\": Y_prediction_test, \n",
    "         \"Y_prediction_train\" : Y_prediction_train, \n",
    "         \"w\" : w, \n",
    "         \"b\" : b,\n",
    "         \"learning_rate\" : learning_rate,\n",
    "         \"num_iterations\": num_iterations}\n",
    "    \n",
    "    return d"
   ]
  },
  {
   "cell_type": "markdown",
   "metadata": {},
   "source": [
    "Запустите ячейку, чтобы обучить модель"
   ]
  },
  {
   "cell_type": "code",
   "execution_count": 34,
   "metadata": {
    "scrolled": true
   },
   "outputs": [
    {
     "name": "stdout",
     "output_type": "stream",
     "text": [
      "train accuracy: 99.04306220095694 %\n",
      "test accuracy: 70.0 %\n"
     ]
    }
   ],
   "source": [
    "d = model(train_set_x, train_set_y, test_set_x, test_set_y, num_iterations = 2000, learning_rate = 0.005, print_cost = False)"
   ]
  },
  {
   "cell_type": "markdown",
   "metadata": {},
   "source": [
    "**Ожидаемый результат:**\n",
    "\n",
    "|  |  |\n",
    "|---|---|\n",
    "| **Train Accuracy** |  99.04306220095694 %  |\n",
    "| **Test Accuracy** | 70.0 % |"
   ]
  },
  {
   "cell_type": "code",
   "execution_count": 40,
   "metadata": {},
   "outputs": [
    {
     "name": "stdout",
     "output_type": "stream",
     "text": [
      "y = 0, you predicted that it is a \"cat\" picture.\n"
     ]
    },
    {
     "data": {
      "image/png": "[encoded data removed]",
      "text/plain": [
       "<Figure size 640x480 with 1 Axes>"
      ]
     },
     "metadata": {},
     "output_type": "display_data"
    }
   ],
   "source": [
    "# Пример неправильной классификации изображения.\n",
    "index = 5\n",
    "plt.imshow(test_set_x[:,index].reshape((num_px, num_px, 3)))\n",
    "print (\"y = \" + str(test_set_y[0,index]) + \", you predicted that it is a \\\"\" + classes[int(d[\"Y_prediction_test\"][0,index])].decode(\"utf-8\") +  \"\\\" picture.\")\n"
   ]
  },
  {
   "cell_type": "markdown",
   "metadata": {},
   "source": [
    "Давайте также построим функцию стоимости и градиенты."
   ]
  },
  {
   "cell_type": "code",
   "execution_count": 41,
   "metadata": {},
   "outputs": [
    {
     "data": {
      "image/png": "[encoded data removed]",
      "text/plain": [
       "<Figure size 640x480 with 1 Axes>"
      ]
     },
     "metadata": {},
     "output_type": "display_data"
    }
   ],
   "source": [
    "# График кривой обучения (относительно функции стоимости)\n",
    "costs = np.squeeze(d['costs'])\n",
    "plt.plot(costs)\n",
    "plt.ylabel('cost')\n",
    "plt.xlabel('iterations (per hundreds)')\n",
    "plt.title(\"Learning rate =\" + str(d[\"learning_rate\"]))\n",
    "plt.show()"
   ]
  },
  {
   "cell_type": "markdown",
   "metadata": {
    "collapsed": true
   },
   "source": [
    "Видно, что значение функции стоимости снижается. Это означает, что параметры подбираются успешно. \n",
    "\n",
    "Однако на тренировочном наборе модель можно получить лучшие результаты. Можно попробовать увеличить количество итераций в ячейке выше и перезапустить ячейки. \n",
    "\n",
    "Точность на обучающей выборке возрастает, но точность на тестовой выборке снизится. Это называется переобучением. "
   ]
  },
  {
   "cell_type": "markdown",
   "metadata": {},
   "source": [
    "## 6 - Подбор learning rate ##\n",
    "\n",
    "Модель построена, давайте подберем $\\alpha$. \n",
    "\n",
    "$\\alpha$ определяет насколько сильно мы изменяем параметры. Если значение будет слишком большим мы можем перескочить оптимальное значение параметра. При малых $\\alpha$ можем не дождаться сходимости алгоритма."
   ]
  },
  {
   "cell_type": "code",
   "execution_count": 42,
   "metadata": {},
   "outputs": [
    {
     "name": "stdout",
     "output_type": "stream",
     "text": [
      "learning rate is: 0.03\n",
      "train accuracy: 100.0 %\n",
      "test accuracy: 66.0 %\n",
      "\n",
      "-------------------------------------------------------\n",
      "\n",
      "learning rate is: 0.01\n",
      "train accuracy: 99.52153110047847 %\n",
      "test accuracy: 68.0 %\n",
      "\n",
      "-------------------------------------------------------\n",
      "\n",
      "learning rate is: 0.001\n",
      "train accuracy: 88.99521531100478 %\n",
      "test accuracy: 64.0 %\n",
      "\n",
      "-------------------------------------------------------\n",
      "\n",
      "learning rate is: 0.0001\n",
      "train accuracy: 68.42105263157895 %\n",
      "test accuracy: 36.0 %\n",
      "\n",
      "-------------------------------------------------------\n",
      "\n"
     ]
    },
    {
     "data": {
      "image/png": "[encoded data removed]",
      "text/plain": [
       "<Figure size 640x480 with 1 Axes>"
      ]
     },
     "metadata": {},
     "output_type": "display_data"
    }
   ],
   "source": [
    "learning_rates = [0.03, 0.01, 0.001, 0.0001]\n",
    "models = {}\n",
    "for i in learning_rates:\n",
    "    print (\"learning rate is: \" + str(i))\n",
    "    models[str(i)] = model(train_set_x, train_set_y, test_set_x, test_set_y, num_iterations = 1500, learning_rate = i, print_cost = False)\n",
    "    print ('\\n' + \"-------------------------------------------------------\" + '\\n')\n",
    "\n",
    "for i in learning_rates:\n",
    "    plt.plot(np.squeeze(models[str(i)][\"costs\"]), label= str(models[str(i)][\"learning_rate\"]))\n",
    "\n",
    "plt.ylabel('cost')\n",
    "plt.xlabel('iterations')\n",
    "\n",
    "legend = plt.legend(loc='upper center', shadow=True)\n",
    "frame = legend.get_frame()\n",
    "frame.set_facecolor('0.90')\n",
    "plt.show()"
   ]
  },
  {
   "cell_type": "markdown",
   "metadata": {},
   "source": [
    "**Интерпретация**: \n",
    "- Разные $\\alpha$ приводят к разным значениям функции стоимости и, соответственно, к разным результатам предсказаний.\n",
    "- При слишком больших $\\alpha$ значение функции стоимости может скакать, также это может привести к тому, что алгоритм не сойдется.\n",
    "- Малые значения не гарантируют лучшую модель, требуется проверять на возможное переобучение. \n",
    "- Выбор скорости обучения обусловлен значением функции потерь и наличием/отсутствием переобучения."
   ]
  },
  {
   "cell_type": "markdown",
   "metadata": {
    "collapsed": true
   },
   "source": [
    "## 7 - Проверка на своем изображении"
   ]
  },
  {
   "cell_type": "code",
   "execution_count": null,
   "metadata": {
    "scrolled": false
   },
   "outputs": [],
   "source": [
    "import imageio\n",
    "## START CODE HERE ## (PUT YOUR IMAGE NAME) \n",
    "fname = \"example.jpg\"   # change this to the name of your image file \n",
    "## END CODE HERE ##\n",
    "\n",
    "# Проводим предобработку, чтобы алгоритм мог обработать изображение\n",
    "image = np.array(imageio.imread(fname))\n",
    "my_image = np.array(Image.fromarray(image).resize((num_px,num_px))).reshape((1, num_px*num_px*3)).T\n",
    "my_predicted_image = predict(d[\"w\"], d[\"b\"], my_image)\n",
    "\n",
    "plt.imshow(image)\n",
    "print(\"y = \" + str(np.squeeze(my_predicted_image)) + \", your algorithm predicts a \\\"\" + classes[int(np.squeeze(my_predicted_image)),].decode(\"utf-8\") +  \"\\\" picture.\")"
   ]
  }
 ],
 "metadata": {
  "coursera": {
   "course_slug": "neural-networks-deep-learning",
   "graded_item_id": "XaIWT",
   "launcher_item_id": "zAgPl"
  },
  "kernelspec": {
   "display_name": "Python 3 (ipykernel)",
   "language": "python",
   "name": "python3"
  },
  "language_info": {
   "codemirror_mode": {
    "name": "ipython",
    "version": 3
   },
   "file_extension": ".py",
   "mimetype": "text/x-python",
   "name": "python",
   "nbconvert_exporter": "python",
   "pygments_lexer": "ipython3",
   "version": "3.11.4"
  },
  "toc": {
   "base_numbering": 1,
   "nav_menu": {
    "height": "263px",
    "width": "252px"
   },
   "number_sections": true,
   "sideBar": true,
   "skip_h1_title": false,
   "title_cell": "Table of Contents",
   "title_sidebar": "Contents",
   "toc_cell": false,
   "toc_position": {},
   "toc_section_display": "block",
   "toc_window_display": false
  }
 },
 "nbformat": 4,
 "nbformat_minor": 2
}
